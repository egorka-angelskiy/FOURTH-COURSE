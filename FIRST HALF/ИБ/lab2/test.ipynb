{
 "cells": [
  {
   "cell_type": "code",
   "execution_count": 7,
   "metadata": {},
   "outputs": [],
   "source": [
    "def KSA(key: bytes) -> list[bytes]:\n",
    "\ts_block: list[int] = list(range(256))\n",
    "\n",
    "\tj: int = 0\n",
    "\tfor i in range(256):\n",
    "\t\tj = (j + s_block[i] + key[i % len(key)]) % 256\n",
    "\t\ts_block[i], s_block[j] = s_block[j], s_block[i]\n",
    "\n",
    "\treturn s_block"
   ]
  },
  {
   "cell_type": "code",
   "execution_count": 8,
   "metadata": {},
   "outputs": [],
   "source": [
    "def PRGA(s_block: list[int]):\n",
    "\ti: int = 0\n",
    "\tj: int = 0\n",
    "\twhile True:\n",
    "\t\ti = (i + 1) % 256\n",
    "\t\tj = (j + s_block[i]) % 256\n",
    "\t\ts_block[i], s_block[j] = s_block[j], s_block[i]\n",
    "\t\tk = s_block[(s_block[i] + s_block[j]) % 256]\n",
    "\t\tyield k"
   ]
  },
  {
   "cell_type": "code",
   "execution_count": 9,
   "metadata": {},
   "outputs": [],
   "source": [
    "def RC4(s_block: list[bytes]) -> list[bytes]:\n",
    "\tkey = PRGA(s_block) \n",
    "\tfor _ in range(256):\n",
    "\t\tnext(key)\n",
    "\n",
    "\treturn key\n"
   ]
  },
  {
   "cell_type": "code",
   "execution_count": 10,
   "metadata": {},
   "outputs": [],
   "source": [
    "def xor(text: bytes, key: bytes) -> list[bytes]: \n",
    "    result: list[bytes] = []\n",
    "    for symbol_byte in text: \n",
    "        try: \n",
    "            symbol_byte = ord(symbol_byte)\n",
    "        except: \n",
    "            pass \n",
    "                \n",
    "        result += [symbol_byte ^ next(key)]\n",
    "    \n",
    "    return result"
   ]
  },
  {
   "cell_type": "code",
   "execution_count": 13,
   "metadata": {},
   "outputs": [
    {
     "name": "stdout",
     "output_type": "stream",
     "text": [
      "[108, 122, 111, 159, 40, 61, 49, 60, 51, 177, 178, 147, 58, 62, 169, 36, 149, 118, 73, 253, 201, 182, 231, 166, 240, 65, 24, 179, 234, 57, 195, 79, 70, 37, 207, 34, 154, 131, 168, 78, 120, 101, 135, 35, 113, 214, 129, 123, 93, 164, 0, 38, 53, 158, 238, 63, 212, 87, 242, 48, 85, 27, 105, 44, 202, 223, 95, 188, 94, 56, 138, 206, 21, 96, 220, 59, 235, 239, 52, 67, 219, 217, 152, 224, 15, 13, 243, 187, 192, 72, 124, 216, 246, 180, 133, 20, 232, 143, 254, 100, 75, 125, 241, 185, 245, 99, 189, 97, 203, 126, 208, 84, 110, 136, 161, 14, 227, 107, 148, 29, 157, 54, 186, 31, 229, 10, 30, 6, 204, 3, 174, 194, 115, 25, 46, 2, 142, 89, 197, 205, 218, 55, 255, 193, 42, 249, 196, 162, 190, 171, 19, 199, 5, 43, 18, 226, 112, 132, 167, 106, 225, 26, 4, 23, 200, 88, 250, 98, 17, 128, 233, 47, 173, 228, 16, 160, 213, 247, 45, 77, 184, 252, 8, 127, 163, 150, 121, 90, 175, 145, 151, 83, 92, 66, 146, 86, 139, 64, 209, 170, 28, 32, 76, 191, 198, 80, 230, 155, 181, 244, 116, 41, 91, 71, 39, 119, 134, 141, 176, 221, 82, 140, 12, 74, 104, 211, 144, 81, 50, 7, 102, 237, 130, 222, 137, 11, 117, 69, 156, 109, 183, 215, 33, 22, 251, 210, 236, 103, 9, 248, 68, 114, 1, 153, 172, 165]\n",
      "[185, 227, 38, 224, 179, 135, 130, 119, 204, 128, 214, 54, 67, 246, 2, 21, 254, 145, 39, 90, 21, 222, 219, 12, 79, 54, 48, 24, 102, 219, 217, 3, 217, 171, 233, 31, 146, 2, 102, 236, 128, 158, 214, 126, 56, 174, 212, 200, 76, 210, 229, 199, 74, 253, 229, 20, 111, 172, 114, 19, 149, 130, 36, 101, 224, 218, 236, 204, 179, 80, 161, 62, 114]\n",
      "b'B9'b'E3'b'26'b'E0'b'B3'b'87'b'82'b'77'b'CC'b'80'b'D6'b'36'b'43'b'F6'b'02'b'15'b'FE'b'91'b'27'b'5A'b'15'b'DE'b'DB'b'0C'b'4F'b'36'b'30'b'18'b'66'b'DB'b'D9'b'03'b'D9'b'AB'b'E9'b'1F'b'92'b'02'b'66'b'EC'b'80'b'9E'b'D6'b'7E'b'38'b'AE'b'D4'b'C8'b'4C'b'D2'b'E5'b'C7'b'4A'b'FD'b'E5'b'14'b'6F'b'AC'b'72'b'13'b'95'b'82'b'24'b'65'b'E0'b'DA'b'EC'b'CC'b'B3'b'50'b'A1'b'3E'b'72'b'B9E326E0B3878277CC80D63643F60215FE91275A15DEDB0C4F36301866DBD903D9ABE91F920266EC809ED67E38AED4C84CD2E5C74AFDE5146FAC721395822465E0DAECCCB350A13E72'\n"
     ]
    }
   ],
   "source": [
    "S = KSA(open('key.txt', 'rb').read())\n",
    "print(S)\n",
    "key = RC4(S)\n",
    "#encrypt:\n",
    "ciphertext = xor(open('file.txt', 'rb').read(), key)\n",
    " \n",
    "print(ciphertext)\n",
    "#format integers to hex for comparison.\n",
    "cipher_byte = b''\n",
    "for c in ciphertext:\n",
    "    cipher_byte += (\"%02X\" % (c)).encode()\n",
    "    print((\"%02X\" % (c)).encode(), end='')\n",
    "\n",
    "print(cipher_byte)\n",
    "    #AB DA 72 23 69 A1 15 E5 99 67 E8 22 4F A8 9D E0 32 52 C9 4F"
   ]
  },
  {
   "cell_type": "code",
   "execution_count": 12,
   "metadata": {},
   "outputs": [
    {
     "name": "stdout",
     "output_type": "stream",
     "text": [
      "Hello, World! Is's a laboratory work number two for Information Security!"
     ]
    }
   ],
   "source": [
    "#decrypt:\n",
    "S = KSA(open('key.txt', 'rb').read())\n",
    "keystream = RC4(S)\n",
    "plaintext = xor(ciphertext, keystream)\n",
    "for c in plaintext: \n",
    "    print(chr(c),end='')"
   ]
  },
  {
   "cell_type": "code",
   "execution_count": null,
   "metadata": {},
   "outputs": [],
   "source": []
  },
  {
   "cell_type": "code",
   "execution_count": null,
   "metadata": {},
   "outputs": [],
   "source": []
  }
 ],
 "metadata": {
  "kernelspec": {
   "display_name": "Python 3",
   "language": "python",
   "name": "python3"
  },
  "language_info": {
   "codemirror_mode": {
    "name": "ipython",
    "version": 3
   },
   "file_extension": ".py",
   "mimetype": "text/x-python",
   "name": "python",
   "nbconvert_exporter": "python",
   "pygments_lexer": "ipython3",
   "version": "3.12.0"
  }
 },
 "nbformat": 4,
 "nbformat_minor": 2
}
